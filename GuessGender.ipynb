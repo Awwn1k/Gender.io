{
 "cells": [
  {
   "cell_type": "code",
   "execution_count": 1,
   "source": [
    "import pandas as pd\n",
    "import numpy as np"
   ],
   "outputs": [],
   "metadata": {}
  },
  {
   "cell_type": "code",
   "execution_count": 2,
   "source": [
    "dfMale = pd.read_csv(\"./Datasets/Indian-Male-Names.csv\")\n",
    "dfFemale = pd.read_csv(\"./Datasets/Indian-Female-Names.csv\")"
   ],
   "outputs": [],
   "metadata": {}
  },
  {
   "cell_type": "code",
   "execution_count": 48,
   "metadata": {
    "tags": []
   },
   "outputs": [],
   "source": [
    "duplicates = []\n",
    "for i, val in enumerate(dfMale['name']):\n",
    "    if(str(val) in str(dfFemale['name'][i])  or str(dfFemale['name'][i]) in str(val)):\n",
    "        duplicates.append([val, dfFemale['name'][i]])"
   ]
  },
  {
   "cell_type": "code",
   "execution_count": 49,
   "metadata": {},
   "outputs": [
    {
     "output_type": "execute_result",
     "data": {
      "text/plain": [
       "[['gulshan', 'gulshan'],\n",
       " ['vishal @ deepak', 'deepa'],\n",
       " ['aman', 'tamanna'],\n",
       " ['deepak', 'deepa'],\n",
       " ['na', 'poonam'],\n",
       " ['uma shankar soni', 'soni'],\n",
       " ['praveen bharti', 'arti'],\n",
       " ['neeraj yadav', 'neeraj'],\n",
       " ['suman lal', 'suman'],\n",
       " ['devender kumar @ ashu', 'ashu'],\n",
       " ['shiva', 'shivani']]"
      ]
     },
     "metadata": {},
     "execution_count": 49
    }
   ],
   "source": [
    "duplicates"
   ]
  },
  {
   "cell_type": "code",
   "execution_count": 4,
   "source": [
    "dfMale.head()"
   ],
   "outputs": [
    {
     "output_type": "execute_result",
     "data": {
      "text/plain": [
       "              name gender    race\n",
       "0          barjraj      m  indian\n",
       "1     ramdin verma      m  indian\n",
       "2  sharat chandran      m  indian\n",
       "3  birender mandal      m  indian\n",
       "4             amit      m  indian"
      ],
      "text/html": "<div>\n<style scoped>\n    .dataframe tbody tr th:only-of-type {\n        vertical-align: middle;\n    }\n\n    .dataframe tbody tr th {\n        vertical-align: top;\n    }\n\n    .dataframe thead th {\n        text-align: right;\n    }\n</style>\n<table border=\"1\" class=\"dataframe\">\n  <thead>\n    <tr style=\"text-align: right;\">\n      <th></th>\n      <th>name</th>\n      <th>gender</th>\n      <th>race</th>\n    </tr>\n  </thead>\n  <tbody>\n    <tr>\n      <th>0</th>\n      <td>barjraj</td>\n      <td>m</td>\n      <td>indian</td>\n    </tr>\n    <tr>\n      <th>1</th>\n      <td>ramdin verma</td>\n      <td>m</td>\n      <td>indian</td>\n    </tr>\n    <tr>\n      <th>2</th>\n      <td>sharat chandran</td>\n      <td>m</td>\n      <td>indian</td>\n    </tr>\n    <tr>\n      <th>3</th>\n      <td>birender mandal</td>\n      <td>m</td>\n      <td>indian</td>\n    </tr>\n    <tr>\n      <th>4</th>\n      <td>amit</td>\n      <td>m</td>\n      <td>indian</td>\n    </tr>\n  </tbody>\n</table>\n</div>"
     },
     "metadata": {},
     "execution_count": 4
    }
   ],
   "metadata": {}
  },
  {
   "cell_type": "code",
   "execution_count": 5,
   "source": [
    "dfFemale.head()"
   ],
   "outputs": [
    {
     "output_type": "execute_result",
     "data": {
      "text/plain": [
       "              name gender    race\n",
       "0          shivani      f  indian\n",
       "1             isha      f  indian\n",
       "2  smt shyani devi      f  indian\n",
       "3            divya      f  indian\n",
       "4            mansi      f  indian"
      ],
      "text/html": "<div>\n<style scoped>\n    .dataframe tbody tr th:only-of-type {\n        vertical-align: middle;\n    }\n\n    .dataframe tbody tr th {\n        vertical-align: top;\n    }\n\n    .dataframe thead th {\n        text-align: right;\n    }\n</style>\n<table border=\"1\" class=\"dataframe\">\n  <thead>\n    <tr style=\"text-align: right;\">\n      <th></th>\n      <th>name</th>\n      <th>gender</th>\n      <th>race</th>\n    </tr>\n  </thead>\n  <tbody>\n    <tr>\n      <th>0</th>\n      <td>shivani</td>\n      <td>f</td>\n      <td>indian</td>\n    </tr>\n    <tr>\n      <th>1</th>\n      <td>isha</td>\n      <td>f</td>\n      <td>indian</td>\n    </tr>\n    <tr>\n      <th>2</th>\n      <td>smt shyani devi</td>\n      <td>f</td>\n      <td>indian</td>\n    </tr>\n    <tr>\n      <th>3</th>\n      <td>divya</td>\n      <td>f</td>\n      <td>indian</td>\n    </tr>\n    <tr>\n      <th>4</th>\n      <td>mansi</td>\n      <td>f</td>\n      <td>indian</td>\n    </tr>\n  </tbody>\n</table>\n</div>"
     },
     "metadata": {},
     "execution_count": 5
    }
   ],
   "metadata": {}
  },
  {
   "cell_type": "code",
   "execution_count": 6,
   "source": [
    "dfFinal = pd.DataFrame({\"name\":dfMale[\"name\"].append(dfFemale[\"name\"], ignore_index= True), \"gender\":dfMale[\"gender\"].append(dfFemale[\"gender\"], ignore_index= True)})"
   ],
   "outputs": [],
   "metadata": {}
  },
  {
   "cell_type": "code",
   "execution_count": 64,
   "metadata": {},
   "outputs": [],
   "source": [
    "duplicates = dfFinal[dfFinal.duplicated()]"
   ]
  },
  {
   "cell_type": "code",
   "execution_count": 65,
   "metadata": {},
   "outputs": [
    {
     "output_type": "execute_result",
     "data": {
      "text/plain": [
       "               name gender\n",
       "24            rohit      m\n",
       "27          santosh      m\n",
       "33     gurmit singh      m\n",
       "38            rohit      m\n",
       "39            rohit      m\n",
       "...             ...    ...\n",
       "30219         pooja      f\n",
       "30220         rakhi      f\n",
       "30221      musarrat      f\n",
       "30222    saroj devi      f\n",
       "30225       shivani      f\n",
       "\n",
       "[14933 rows x 2 columns]"
      ],
      "text/html": "<div>\n<style scoped>\n    .dataframe tbody tr th:only-of-type {\n        vertical-align: middle;\n    }\n\n    .dataframe tbody tr th {\n        vertical-align: top;\n    }\n\n    .dataframe thead th {\n        text-align: right;\n    }\n</style>\n<table border=\"1\" class=\"dataframe\">\n  <thead>\n    <tr style=\"text-align: right;\">\n      <th></th>\n      <th>name</th>\n      <th>gender</th>\n    </tr>\n  </thead>\n  <tbody>\n    <tr>\n      <th>24</th>\n      <td>rohit</td>\n      <td>m</td>\n    </tr>\n    <tr>\n      <th>27</th>\n      <td>santosh</td>\n      <td>m</td>\n    </tr>\n    <tr>\n      <th>33</th>\n      <td>gurmit singh</td>\n      <td>m</td>\n    </tr>\n    <tr>\n      <th>38</th>\n      <td>rohit</td>\n      <td>m</td>\n    </tr>\n    <tr>\n      <th>39</th>\n      <td>rohit</td>\n      <td>m</td>\n    </tr>\n    <tr>\n      <th>...</th>\n      <td>...</td>\n      <td>...</td>\n    </tr>\n    <tr>\n      <th>30219</th>\n      <td>pooja</td>\n      <td>f</td>\n    </tr>\n    <tr>\n      <th>30220</th>\n      <td>rakhi</td>\n      <td>f</td>\n    </tr>\n    <tr>\n      <th>30221</th>\n      <td>musarrat</td>\n      <td>f</td>\n    </tr>\n    <tr>\n      <th>30222</th>\n      <td>saroj devi</td>\n      <td>f</td>\n    </tr>\n    <tr>\n      <th>30225</th>\n      <td>shivani</td>\n      <td>f</td>\n    </tr>\n  </tbody>\n</table>\n<p>14933 rows × 2 columns</p>\n</div>"
     },
     "metadata": {},
     "execution_count": 65
    }
   ],
   "source": [
    "duplicates"
   ]
  },
  {
   "cell_type": "code",
   "execution_count": 14,
   "source": [
    "for val, i in enumerate(dfFinal['name']):\n",
    "    if((val[i] == val[i+1]) and (dfFinal['gender'][i] != dfFinal['gender'][i+1])):\n",
    "        print(val[i], dfFinal['gender'][i])"
   ],
   "outputs": [
    {
     "output_type": "error",
     "ename": "TypeError",
     "evalue": "'int' object is not subscriptable",
     "traceback": [
      "\u001b[1;31m---------------------------------------------------------------------------\u001b[0m",
      "\u001b[1;31mTypeError\u001b[0m                                 Traceback (most recent call last)",
      "\u001b[1;32m<ipython-input-14-8f2bba82c5cb>\u001b[0m in \u001b[0;36m<module>\u001b[1;34m\u001b[0m\n\u001b[0;32m      1\u001b[0m \u001b[1;32mfor\u001b[0m \u001b[0mval\u001b[0m\u001b[1;33m,\u001b[0m \u001b[0mi\u001b[0m \u001b[1;32min\u001b[0m \u001b[0menumerate\u001b[0m\u001b[1;33m(\u001b[0m\u001b[0mdfFinal\u001b[0m\u001b[1;33m[\u001b[0m\u001b[1;34m'name'\u001b[0m\u001b[1;33m]\u001b[0m\u001b[1;33m)\u001b[0m\u001b[1;33m:\u001b[0m\u001b[1;33m\u001b[0m\u001b[1;33m\u001b[0m\u001b[0m\n\u001b[1;32m----> 2\u001b[1;33m     \u001b[1;32mif\u001b[0m\u001b[1;33m(\u001b[0m\u001b[1;33m(\u001b[0m\u001b[0mval\u001b[0m\u001b[1;33m[\u001b[0m\u001b[0mi\u001b[0m\u001b[1;33m]\u001b[0m \u001b[1;33m==\u001b[0m \u001b[0mval\u001b[0m\u001b[1;33m[\u001b[0m\u001b[0mi\u001b[0m\u001b[1;33m+\u001b[0m\u001b[1;36m1\u001b[0m\u001b[1;33m]\u001b[0m\u001b[1;33m)\u001b[0m \u001b[1;32mand\u001b[0m \u001b[1;33m(\u001b[0m\u001b[0mdfFinal\u001b[0m\u001b[1;33m[\u001b[0m\u001b[1;34m'gender'\u001b[0m\u001b[1;33m]\u001b[0m\u001b[1;33m[\u001b[0m\u001b[0mi\u001b[0m\u001b[1;33m]\u001b[0m \u001b[1;33m!=\u001b[0m \u001b[0mdfFinal\u001b[0m\u001b[1;33m[\u001b[0m\u001b[1;34m'gender'\u001b[0m\u001b[1;33m]\u001b[0m\u001b[1;33m[\u001b[0m\u001b[0mi\u001b[0m\u001b[1;33m+\u001b[0m\u001b[1;36m1\u001b[0m\u001b[1;33m]\u001b[0m\u001b[1;33m)\u001b[0m\u001b[1;33m)\u001b[0m\u001b[1;33m:\u001b[0m\u001b[1;33m\u001b[0m\u001b[1;33m\u001b[0m\u001b[0m\n\u001b[0m\u001b[0;32m      3\u001b[0m         \u001b[0mprint\u001b[0m\u001b[1;33m(\u001b[0m\u001b[0mval\u001b[0m\u001b[1;33m[\u001b[0m\u001b[0mi\u001b[0m\u001b[1;33m]\u001b[0m\u001b[1;33m,\u001b[0m \u001b[0mdfFinal\u001b[0m\u001b[1;33m[\u001b[0m\u001b[1;34m'gender'\u001b[0m\u001b[1;33m]\u001b[0m\u001b[1;33m[\u001b[0m\u001b[0mi\u001b[0m\u001b[1;33m]\u001b[0m\u001b[1;33m)\u001b[0m\u001b[1;33m\u001b[0m\u001b[1;33m\u001b[0m\u001b[0m\n",
      "\u001b[1;31mTypeError\u001b[0m: 'int' object is not subscriptable"
     ]
    }
   ],
   "metadata": {}
  }
 ],
 "metadata": {
  "orig_nbformat": 4,
  "language_info": {
   "name": "python",
   "version": "3.8.5",
   "mimetype": "text/x-python",
   "codemirror_mode": {
    "name": "ipython",
    "version": 3
   },
   "pygments_lexer": "ipython3",
   "nbconvert_exporter": "python",
   "file_extension": ".py"
  },
  "kernelspec": {
   "name": "python3",
   "display_name": "Python 3.8.5 64-bit ('base': conda)"
  },
  "interpreter": {
   "hash": "0c8c35d18b2e61e8c6ab986293cb7aa9d3ec55f83c5c24bac5b8ca5ae8e22b5c"
  }
 },
 "nbformat": 4,
 "nbformat_minor": 2
}